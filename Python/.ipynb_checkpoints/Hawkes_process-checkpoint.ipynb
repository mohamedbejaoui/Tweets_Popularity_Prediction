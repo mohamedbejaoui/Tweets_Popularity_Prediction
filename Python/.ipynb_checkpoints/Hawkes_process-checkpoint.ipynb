{
 "cells": [
  {
   "cell_type": "code",
   "execution_count": 1,
   "metadata": {},
   "outputs": [],
   "source": [
    "import math\n",
    "import pandas as pd\n",
    "import numpy as np\n",
    "import matplotlib.pyplot as plt\n",
    "from functools import reduce\n",
    "# IPOPT for non linear solver with constraints and bounds\n",
    "import ipopt"
   ]
  },
  {
   "cell_type": "raw",
   "metadata": {},
   "source": [
    "# Un événement : retweet d'un utilisateur paramétré par le couple (mi, ti)\n",
    "# Se modélise par un noyau suivant une loi de puissance : PHIm(t-ti)\n",
    "# event de type 2-length array / t de type np.arange()"
   ]
  },
  {
   "cell_type": "code",
   "execution_count": 3,
   "metadata": {},
   "outputs": [
    {
     "name": "stdout",
     "output_type": "stream",
     "text": [
      "25\n"
     ]
    }
   ],
   "source": [
    "def kernelFct(event, t, K = 0.024, beta = 0.5, mmin = 1, c = 0.001, theta = 0.2):\n",
    "    mi = event[0]\n",
    "    ti = event[1] # Origine temporelle\n",
    "    val_i = np.zeros(len(t))\n",
    "    #  Le noyau n'est pas défini aux temps < ti et à une magnitude < mmin\n",
    "    if mi > mmin:\n",
    "        indices_definis = np.where(t>=ti)[0]\n",
    "        if len(indices_definis)>0:\n",
    "            # Virality * Influence of the user * Decaying (relaxation kernel)\n",
    "            val_i[indices_definis] = K * (mi / mmin)**beta / (t[indices_definis] - ti + c)**(1+theta)\n",
    "    return(val_i)\n",
    "\n",
    "# EXEMPLE\n",
    "event1, event2 = [1000, 12], [750, 68]\n",
    "t = np.arange(0, 100, 0.1)\n",
    "K, beta, mmin, c, theta = 0.8, 0.6, 1, 10, 0.8\n",
    "values_PL1, values_PL2 = kernelFct(event1, t, K, beta, mmin, c, theta), kernelFct(event2, t, K, beta, mmin, c, theta)\n",
    "plt.plot(t, values_PL1)\n",
    "plt.plot(t, values_PL2, color='r')\n",
    "plt.title(\"Power Law memory kernel over time\")"
   ]
  },
  {
   "cell_type": "raw",
   "metadata": {},
   "source": [
    "# Lambda est l'Event Rate : somme de tous les noyaux des événements d'origine temporelle < t"
   ]
  },
  {
   "cell_type": "code",
   "execution_count": 5,
   "metadata": {},
   "outputs": [
    {
     "ename": "NameError",
     "evalue": "name 'kernelFct' is not defined",
     "output_type": "error",
     "traceback": [
      "\u001b[0;31m---------------------------------------------------------------------------\u001b[0m",
      "\u001b[0;31mNameError\u001b[0m                                 Traceback (most recent call last)",
      "\u001b[0;32m<ipython-input-5-1a4d79fd9cc8>\u001b[0m in \u001b[0;36m<module>\u001b[0;34m()\u001b[0m\n\u001b[1;32m     13\u001b[0m \u001b[0mt\u001b[0m \u001b[0;34m=\u001b[0m \u001b[0mnp\u001b[0m\u001b[0;34m.\u001b[0m\u001b[0marange\u001b[0m\u001b[0;34m(\u001b[0m\u001b[0;36m0\u001b[0m\u001b[0;34m,\u001b[0m \u001b[0;36m600\u001b[0m\u001b[0;34m)\u001b[0m \u001b[0;31m# Etat du taux d'arrivée d'événements après 600 millisecondes\u001b[0m\u001b[0;34m\u001b[0m\u001b[0;34m\u001b[0m\u001b[0m\n\u001b[1;32m     14\u001b[0m \u001b[0mK\u001b[0m\u001b[0;34m,\u001b[0m \u001b[0mbeta\u001b[0m\u001b[0;34m,\u001b[0m \u001b[0mmmin\u001b[0m\u001b[0;34m,\u001b[0m \u001b[0mc\u001b[0m\u001b[0;34m,\u001b[0m \u001b[0mtheta\u001b[0m \u001b[0;34m=\u001b[0m \u001b[0;36m0.8\u001b[0m\u001b[0;34m,\u001b[0m \u001b[0;36m0.6\u001b[0m\u001b[0;34m,\u001b[0m \u001b[0;36m1\u001b[0m\u001b[0;34m,\u001b[0m \u001b[0;36m10\u001b[0m\u001b[0;34m,\u001b[0m \u001b[0;36m0.8\u001b[0m\u001b[0;34m\u001b[0m\u001b[0;34m\u001b[0m\u001b[0m\n\u001b[0;32m---> 15\u001b[0;31m \u001b[0mu\u001b[0m \u001b[0;34m=\u001b[0m \u001b[0mLambda\u001b[0m\u001b[0;34m(\u001b[0m\u001b[0mreal_cascade\u001b[0m\u001b[0;34m,\u001b[0m \u001b[0mt\u001b[0m\u001b[0;34m,\u001b[0m \u001b[0mK\u001b[0m\u001b[0;34m,\u001b[0m \u001b[0mbeta\u001b[0m\u001b[0;34m,\u001b[0m \u001b[0mmmin\u001b[0m\u001b[0;34m,\u001b[0m \u001b[0mc\u001b[0m\u001b[0;34m,\u001b[0m \u001b[0mtheta\u001b[0m\u001b[0;34m)\u001b[0m \u001b[0;31m# 43 x 600\u001b[0m\u001b[0;34m\u001b[0m\u001b[0;34m\u001b[0m\u001b[0m\n\u001b[0m\u001b[1;32m     16\u001b[0m \u001b[0mplt\u001b[0m\u001b[0;34m.\u001b[0m\u001b[0mplot\u001b[0m\u001b[0;34m(\u001b[0m\u001b[0mt\u001b[0m\u001b[0;34m,\u001b[0m \u001b[0mu\u001b[0m\u001b[0;34m)\u001b[0m\u001b[0;34m\u001b[0m\u001b[0;34m\u001b[0m\u001b[0m\n\u001b[1;32m     17\u001b[0m \u001b[0mplt\u001b[0m\u001b[0;34m.\u001b[0m\u001b[0mtitle\u001b[0m\u001b[0;34m(\u001b[0m\u001b[0;34m\"Power Law memory kernel over time\"\u001b[0m\u001b[0;34m)\u001b[0m\u001b[0;34m\u001b[0m\u001b[0;34m\u001b[0m\u001b[0m\n",
      "\u001b[0;32m<ipython-input-5-1a4d79fd9cc8>\u001b[0m in \u001b[0;36mLambda\u001b[0;34m(history, t, K, beta, mmin, c, theta)\u001b[0m\n\u001b[1;32m      3\u001b[0m     \u001b[0mLambda\u001b[0m \u001b[0;34m=\u001b[0m \u001b[0mnp\u001b[0m\u001b[0;34m.\u001b[0m\u001b[0mzeros\u001b[0m\u001b[0;34m(\u001b[0m\u001b[0mlen\u001b[0m\u001b[0;34m(\u001b[0m\u001b[0mt\u001b[0m\u001b[0;34m)\u001b[0m\u001b[0;34m)\u001b[0m\u001b[0;34m\u001b[0m\u001b[0;34m\u001b[0m\u001b[0m\n\u001b[1;32m      4\u001b[0m     \u001b[0;32mif\u001b[0m \u001b[0;32mnot\u001b[0m \u001b[0msubset\u001b[0m\u001b[0;34m.\u001b[0m\u001b[0mempty\u001b[0m\u001b[0;34m:\u001b[0m\u001b[0;34m\u001b[0m\u001b[0;34m\u001b[0m\u001b[0m\n\u001b[0;32m----> 5\u001b[0;31m         \u001b[0mkernels\u001b[0m \u001b[0;34m=\u001b[0m \u001b[0;34m[\u001b[0m\u001b[0mkernelFct\u001b[0m\u001b[0;34m(\u001b[0m\u001b[0mrow\u001b[0m\u001b[0;34m.\u001b[0m\u001b[0mto_numpy\u001b[0m\u001b[0;34m(\u001b[0m\u001b[0;34m)\u001b[0m\u001b[0;34m,\u001b[0m \u001b[0mt\u001b[0m\u001b[0;34m,\u001b[0m \u001b[0mK\u001b[0m\u001b[0;34m,\u001b[0m \u001b[0mbeta\u001b[0m\u001b[0;34m,\u001b[0m \u001b[0mmmin\u001b[0m\u001b[0;34m,\u001b[0m \u001b[0mc\u001b[0m\u001b[0;34m,\u001b[0m \u001b[0mtheta\u001b[0m\u001b[0;34m)\u001b[0m \u001b[0;32mfor\u001b[0m \u001b[0mi\u001b[0m\u001b[0;34m,\u001b[0m \u001b[0mrow\u001b[0m \u001b[0;32min\u001b[0m \u001b[0msubset\u001b[0m\u001b[0;34m.\u001b[0m\u001b[0miterrows\u001b[0m\u001b[0;34m(\u001b[0m\u001b[0;34m)\u001b[0m\u001b[0;34m]\u001b[0m\u001b[0;34m\u001b[0m\u001b[0;34m\u001b[0m\u001b[0m\n\u001b[0m\u001b[1;32m      6\u001b[0m         \u001b[0;31m# Somme élément par élément des kernels pour obtenir les coordonnées de Lambda(t)\u001b[0m\u001b[0;34m\u001b[0m\u001b[0;34m\u001b[0m\u001b[0;34m\u001b[0m\u001b[0m\n\u001b[1;32m      7\u001b[0m         \u001b[0mkernels_df\u001b[0m \u001b[0;34m=\u001b[0m \u001b[0mpd\u001b[0m\u001b[0;34m.\u001b[0m\u001b[0mDataFrame\u001b[0m\u001b[0;34m(\u001b[0m\u001b[0mdata\u001b[0m \u001b[0;34m=\u001b[0m \u001b[0mkernels\u001b[0m\u001b[0;34m)\u001b[0m\u001b[0;34m\u001b[0m\u001b[0;34m\u001b[0m\u001b[0m\n",
      "\u001b[0;32m<ipython-input-5-1a4d79fd9cc8>\u001b[0m in \u001b[0;36m<listcomp>\u001b[0;34m(.0)\u001b[0m\n\u001b[1;32m      3\u001b[0m     \u001b[0mLambda\u001b[0m \u001b[0;34m=\u001b[0m \u001b[0mnp\u001b[0m\u001b[0;34m.\u001b[0m\u001b[0mzeros\u001b[0m\u001b[0;34m(\u001b[0m\u001b[0mlen\u001b[0m\u001b[0;34m(\u001b[0m\u001b[0mt\u001b[0m\u001b[0;34m)\u001b[0m\u001b[0;34m)\u001b[0m\u001b[0;34m\u001b[0m\u001b[0;34m\u001b[0m\u001b[0m\n\u001b[1;32m      4\u001b[0m     \u001b[0;32mif\u001b[0m \u001b[0;32mnot\u001b[0m \u001b[0msubset\u001b[0m\u001b[0;34m.\u001b[0m\u001b[0mempty\u001b[0m\u001b[0;34m:\u001b[0m\u001b[0;34m\u001b[0m\u001b[0;34m\u001b[0m\u001b[0m\n\u001b[0;32m----> 5\u001b[0;31m         \u001b[0mkernels\u001b[0m \u001b[0;34m=\u001b[0m \u001b[0;34m[\u001b[0m\u001b[0mkernelFct\u001b[0m\u001b[0;34m(\u001b[0m\u001b[0mrow\u001b[0m\u001b[0;34m.\u001b[0m\u001b[0mto_numpy\u001b[0m\u001b[0;34m(\u001b[0m\u001b[0;34m)\u001b[0m\u001b[0;34m,\u001b[0m \u001b[0mt\u001b[0m\u001b[0;34m,\u001b[0m \u001b[0mK\u001b[0m\u001b[0;34m,\u001b[0m \u001b[0mbeta\u001b[0m\u001b[0;34m,\u001b[0m \u001b[0mmmin\u001b[0m\u001b[0;34m,\u001b[0m \u001b[0mc\u001b[0m\u001b[0;34m,\u001b[0m \u001b[0mtheta\u001b[0m\u001b[0;34m)\u001b[0m \u001b[0;32mfor\u001b[0m \u001b[0mi\u001b[0m\u001b[0;34m,\u001b[0m \u001b[0mrow\u001b[0m \u001b[0;32min\u001b[0m \u001b[0msubset\u001b[0m\u001b[0;34m.\u001b[0m\u001b[0miterrows\u001b[0m\u001b[0;34m(\u001b[0m\u001b[0;34m)\u001b[0m\u001b[0;34m]\u001b[0m\u001b[0;34m\u001b[0m\u001b[0;34m\u001b[0m\u001b[0m\n\u001b[0m\u001b[1;32m      6\u001b[0m         \u001b[0;31m# Somme élément par élément des kernels pour obtenir les coordonnées de Lambda(t)\u001b[0m\u001b[0;34m\u001b[0m\u001b[0;34m\u001b[0m\u001b[0;34m\u001b[0m\u001b[0m\n\u001b[1;32m      7\u001b[0m         \u001b[0mkernels_df\u001b[0m \u001b[0;34m=\u001b[0m \u001b[0mpd\u001b[0m\u001b[0;34m.\u001b[0m\u001b[0mDataFrame\u001b[0m\u001b[0;34m(\u001b[0m\u001b[0mdata\u001b[0m \u001b[0;34m=\u001b[0m \u001b[0mkernels\u001b[0m\u001b[0;34m)\u001b[0m\u001b[0;34m\u001b[0m\u001b[0;34m\u001b[0m\u001b[0m\n",
      "\u001b[0;31mNameError\u001b[0m: name 'kernelFct' is not defined"
     ]
    }
   ],
   "source": [
    "def Lambda(history, t, K = 0.024, beta = 0.5, mmin = 1, c = 0.001, theta = 0.2):\n",
    "    subset = history[history.time < max(t)]\n",
    "    Lambda = np.zeros(len(t))\n",
    "    if not subset.empty:\n",
    "        kernels = [kernelFct(row.to_numpy(), t, K, beta, mmin, c, theta) for i, row in subset.iterrows()]\n",
    "        # Somme élément par élément des kernels pour obtenir les coordonnées de Lambda(t)\n",
    "        kernels_df = pd.DataFrame(data = kernels)\n",
    "        Lambda = kernels_df.sum(axis=0).to_numpy()\n",
    "    return(Lambda)\n",
    "\n",
    "# EXEMPLE\n",
    "real_cascade = pd.read_csv('example_book.csv')\n",
    "t = np.arange(0, 600) # Etat du taux d'arrivée d'événements après 600 millisecondes\n",
    "K, beta, mmin, c, theta = 0.8, 0.6, 1, 10, 0.8\n",
    "u = Lambda(real_cascade, t, K, beta, mmin, c, theta) # 43 x 600\n",
    "plt.plot(t, u)\n",
    "plt.title(\"Event Rate lambda(t) over time\")"
   ]
  },
  {
   "cell_type": "raw",
   "metadata": {},
   "source": [
    "# Approximation numérique de l'intégrale de Lambda(t) pour exprimer la log-vraissemblance"
   ]
  },
  {
   "cell_type": "code",
   "execution_count": null,
   "metadata": {},
   "outputs": [],
   "source": [
    "def integrateLambda(lower, upper, history, K = 0.024, beta = 0.5, mmin = 1, c = 0.001, theta = 0.2):\n",
    "    history[\"apply\"] = (history[\"magnitude\"] / mmin)**beta * (1/(theta * c**theta) - 1/(theta * (upper + c - history[\"time\"])**theta))\n",
    "    result = history[\"apply\"].sum()\n",
    "    history.drop(columns=[\"apply\"], inplace=True)\n",
    "    return(result)\n",
    "\n",
    "# EXEMPLE\n",
    "real_cascade = pd.read_csv('Documents/PFE-SD9/protoprojetsd9/Python/example_book.csv')\n",
    "bigT = 10000 # Etat du taux d'arrivée d'événements après 600 millisecondes\n",
    "K, beta, mmin, c, theta = 0.8, 0.6, 1, 10, 0.8\n",
    "v = integrateLambda(0, bigT, real_cascade, K, beta, mmin, c, theta)\n",
    "print(\"Intégrale de Lambda(t) sur [0, bigT] = \", v)"
   ]
  },
  {
   "cell_type": "raw",
   "metadata": {},
   "source": [
    "# On doit minimiser l'opposé de la log-vraissemblance dans le cadre d'un problème non-linéaire avec contraintes\n",
    "# S'exprime avec la somme de Lambda aux temps {ti} et l'intégrale de Lambda sur l'intervalle d'observation"
   ]
  },
  {
   "cell_type": "code",
   "execution_count": null,
   "metadata": {},
   "outputs": [],
   "source": [
    "def neg_log_likelihood(history, K = 0.024, beta = 0.5, mmin = 1, c = 0.001, theta = 0.2):\n",
    "    bigT = history[\"time\"].max()        \n",
    "    Lambda_i = [Lambda(history, np.array([tti]), K, beta, mmin, c, theta) for tti in history.loc[1:, \"time\"]] # On ne compte pas la contribution de l'événement à t=0\n",
    "    return(integrateLambda(0, bigT, history, K, beta, mmin, c, theta) - sum(np.log(Lambda_i)))\n",
    "\n",
    "# EXEMPLE\n",
    "print(neg_log_likelihood(real_cascade, K, beta, mmin, c, theta))"
   ]
  },
  {
   "cell_type": "code",
   "execution_count": null,
   "metadata": {},
   "outputs": [],
   "source": [
    "def closedGradient():\n",
    "    return \n",
    "\n",
    "def contraint():\n",
    "    return 0\n",
    "\n",
    "def jacobian():\n",
    "    return 0\n",
    "\n",
    "def createStartPoints():\n",
    "    return 0\n",
    "\n",
    "# Resolution non linéaire de la minimisation de la log-vraissemblance négative\n",
    "def fitParameters(x0, history):\n",
    "    function = neg_log_likelihood()\n",
    "    jac = # Jacobienne\n",
    "    hess = # Hessienne\n",
    "    bounds = [[0,1],[0,1.016],[0, math.inf],[0, math.inf]] # lb & ub\n",
    "    constraints = ()\n",
    "    opts = # Options\n",
    "    nlp = ipopt.minimize_ipopt(fun, x0, method=None, jac=None, hess=None, hessp=None,\n",
    "                   bounds=None, constraints=(), tol=None, callback=None, options=None)\n",
    "    return 0"
   ]
  },
  {
   "cell_type": "raw",
   "metadata": {},
   "source": [
    "En langage R : librairie ipoptr\n",
    "\n",
    "x0 = c(K, beta, c, theta), # Initialisation de l'itération\n",
    "eval_f = neg.log.likelihood, # la fonction f non linéaire à minimiser\n",
    "eval_grad_f = closedGradient,  # le gradient de f\n",
    "eval_g= constraint, # le vecteur de fonctions contraintes\n",
    "lb = c(K = 0, beta = 0, c = 0, theta = 0), # vecteur des bornes inférieures des variables\n",
    "ub = c(K = 1, beta = 1.016, c = Inf, theta = Inf), # vecteur des bornes supérieures des variables\n",
    "eval_jac_g = jacobian, # la Jacobinenne du vecteur des contraintes\n",
    "eval_jac_g_structure = list(c(1,2,3,4)), # la structure de la Jacobienne\n",
    "constraint_lb = c(log(.Machine$double.eps)), # vecteur des bornes inférieures des contraintes\n",
    "constraint_ub = c(log(1 - .Machine$double.eps)), # vecteur des bornes supérieures des contraintes\n",
    "opts = list(print_level = 0, linear_solver = \"ma57\", max_iter = 10000), # options : \n",
    "history = history\n",
    "\n",
    "\n",
    "\n",
    "En Python : cyipopt / ipopt \n",
    "\n",
    "\n",
    "bounds = [[1,2],[1,2],[1,2],..]\n",
    "lb, ub = get_bounds(bounds) = [[1],[1],..], [[2],[2],..]\n",
    "\n",
    "nlp = ipopt.minimize_ipopt(fun, x0, args=(), kwargs=None, method=None, jac=None, hess=None, hessp=None,\n",
    "                   bounds=None, constraints=(), tol=None, callback=None, options=None)\n",
    "\n",
    "_x0 = np.atleast_1d(x0)\n",
    "    problem = IpoptProblemWrapper(fun, args=args, kwargs=kwargs, jac=jac, hess=hess,\n",
    "                                  hessp=hessp, constraints=constraints)\n",
    "\n",
    "\n",
    "    cl, cu = get_constraint_bounds(constraints, x0)\n",
    "\n",
    "    if options is None:\n",
    "        options = {}\n",
    "\n",
    "    nlp = cyipopt.problem(n = len(_x0),\n",
    "                          m = len(cl),\n",
    "                          problem_obj=problem,\n",
    "                          lb=lb,\n",
    "                          ub=ub,\n",
    "                          cl=cl,\n",
    "                          cu=cu)"
   ]
  },
  {
   "cell_type": "raw",
   "metadata": {},
   "source": [
    "# Le branching factor n* caractérise le nombre moyen attendu d'événements enfantés par un événement parent\n",
    "# Le nombre d'événements enfanté par un parent se calcule par SUM ( (n*)**k )\n",
    "# En pratique n* < 1"
   ]
  },
  {
   "cell_type": "code",
   "execution_count": null,
   "metadata": {},
   "outputs": [],
   "source": [
    "def getBranchingFactor(K = 0.024, alpha = 2.016, beta = 0.5, mmin = 1, c = 0.001, theta = 0.2):\n",
    "    if beta >= (alpha - 1):\n",
    "        print(\"The closed expression calculated by this function does NOT hold for beta >= alpha - 1\")\n",
    "        return(math.inf)\n",
    "    elif theta <= 0:\n",
    "        print(\"The closed expression calculated by this function does NOT hold for theta <= 0 (K=%.4f, beta=%.2f, theta=%.2f)\".format(K, beta, theta))\n",
    "        return(math.inf)\n",
    "    else:\n",
    "        return(K*(alpha - 1) / ((alpha - 1 - beta) * (theta * c**theta)))"
   ]
  },
  {
   "cell_type": "raw",
   "metadata": {},
   "source": [
    "# Le nombre total de Retweets attendus est modélisé par la formule N = n + A1 / (1 - n*)\n",
    "\n",
    "\n",
    "# Pour palier au caractère non déterministe de l'expression, on introduit par la suite\n",
    "# un coefficient w tel que N = n + w * A1 / (1 - n*)\n",
    "# w prédit par RandomForest sur les paramètres (K, beta, c, theta)\n"
   ]
  },
  {
   "cell_type": "code",
   "execution_count": null,
   "metadata": {},
   "outputs": [],
   "source": [
    "def getTotalEvents(history, bigT, K = 0.024, alpha = 2.016, beta = 0.5, mmin = 1, c = 0.001, theta = 0.2):\n",
    "    n_star = getBranchingFactor(K, alpha, beta, mmin, c, theta)\n",
    "    if n_star >= 1:\n",
    "        print(\"Branching Factor greater than 1, not possible to predict the size (super critical regime)\")\n",
    "        return([math.inf, n_star, 'NA'])\n",
    "    else:\n",
    "        history[\"apply\"] = history[\"magnitude\"]**beta / ((bigT + c - history[\"magnitude\"])**theta)\n",
    "        a1 = K * history[\"apply\"].sum() / theta # calculating the expected size of first level of descendants\n",
    "        total_tweets = round(history.shape[0] + a1 / (1 - n_star))\n",
    "        history.drop(columns=[\"apply\"], inplace=True)\n",
    "    return([total_tweets, n_star, a1])"
   ]
  }
 ],
 "metadata": {
  "kernelspec": {
   "display_name": "Python 3",
   "language": "python",
   "name": "python3"
  },
  "language_info": {
   "codemirror_mode": {
    "name": "ipython",
    "version": 3
   },
   "file_extension": ".py",
   "mimetype": "text/x-python",
   "name": "python",
   "nbconvert_exporter": "python",
   "pygments_lexer": "ipython3",
   "version": "3.6.9"
  }
 },
 "nbformat": 4,
 "nbformat_minor": 2
}
