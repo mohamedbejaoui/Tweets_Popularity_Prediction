{
 "cells": [
  {
   "cell_type": "code",
   "execution_count": 16,
   "metadata": {},
   "outputs": [
    {
     "name": "stdout",
     "output_type": "stream",
     "text": [
      "The autoreload extension is already loaded. To reload it, use:\n",
      "  %reload_ext autoreload\n"
     ]
    }
   ],
   "source": [
    "%load_ext autoreload\n",
    "%autoreload 2"
   ]
  },
  {
   "cell_type": "code",
   "execution_count": 17,
   "metadata": {},
   "outputs": [],
   "source": [
    "import math\n",
    "import pandas as pd\n",
    "import numpy as np\n",
    "import matplotlib.pyplot as plt\n",
    "from functools import reduce\n",
    "\n",
    "from marked_hawkes import kernel_fct, lambda_rate, fit_parameters, get_total_events"
   ]
  },
  {
   "cell_type": "markdown",
   "metadata": {},
   "source": [
    "We will start with visualizing how would kernel function for an event with mark 1000 evolve, where it's parameters are $\\kappa = 0.8$, $\\beta = 0.6$, $c = 10$ and $\\theta = 0.8$."
   ]
  },
  {
   "cell_type": "markdown",
   "metadata": {},
   "source": [
    "### Plotting Memory function for the Social Kernel "
   ]
  },
  {
   "cell_type": "code",
   "execution_count": 18,
   "metadata": {},
   "outputs": [
    {
     "data": {
      "image/png": "[encoded data removed]",
      "text/plain": [
       "<Figure size 432x288 with 1 Axes>"
      ]
     },
     "metadata": {},
     "output_type": "display_data"
    }
   ],
   "source": [
    "# initial event we want to use for simmulation (magnitude, time)\n",
    "event = [1000, 0]\n",
    "# series of time points we want to simmulate event for\n",
    "t = np.linspace(0, 100, 1000)\n",
    "\n",
    "# Power Law Kernel\n",
    "# calling the kernelfunction to get the values\n",
    "pl_values = kernel_fct(event=event, t=t)\n",
    "\n",
    "plt.plot(t, pl_values)\n",
    "plt.title(\"Power Law memory kernel over time\");"
   ]
  },
  {
   "cell_type": "markdown",
   "metadata": {},
   "source": [
    "In this section, we first read a real twitter cascade and then fit a hawkes model to it after observing first 1 hour of cacscade and then we will do the final prediction. A retweet cascade is provided in the file 'example.csv' with each row representing an event with values of the form  \n",
    "\n",
    "** [magnitude(#user followers), time(secs)] **"
   ]
  },
  {
   "cell_type": "code",
   "execution_count": 19,
   "metadata": {},
   "outputs": [
    {
     "data": {
      "text/html": [
       "<div>\n",
       "<style scoped>\n",
       "    .dataframe tbody tr th:only-of-type {\n",
       "        vertical-align: middle;\n",
       "    }\n",
       "\n",
       "    .dataframe tbody tr th {\n",
       "        vertical-align: top;\n",
       "    }\n",
       "\n",
       "    .dataframe thead th {\n",
       "        text-align: right;\n",
       "    }\n",
       "</style>\n",
       "<table border=\"1\" class=\"dataframe\">\n",
       "  <thead>\n",
       "    <tr style=\"text-align: right;\">\n",
       "      <th></th>\n",
       "      <th>magnitude</th>\n",
       "      <th>time</th>\n",
       "    </tr>\n",
       "  </thead>\n",
       "  <tbody>\n",
       "    <tr>\n",
       "      <th>0</th>\n",
       "      <td>40989</td>\n",
       "      <td>0</td>\n",
       "    </tr>\n",
       "    <tr>\n",
       "      <th>1</th>\n",
       "      <td>1445</td>\n",
       "      <td>21</td>\n",
       "    </tr>\n",
       "    <tr>\n",
       "      <th>2</th>\n",
       "      <td>563</td>\n",
       "      <td>31</td>\n",
       "    </tr>\n",
       "    <tr>\n",
       "      <th>3</th>\n",
       "      <td>329</td>\n",
       "      <td>33</td>\n",
       "    </tr>\n",
       "    <tr>\n",
       "      <th>4</th>\n",
       "      <td>555</td>\n",
       "      <td>49</td>\n",
       "    </tr>\n",
       "    <tr>\n",
       "      <th>5</th>\n",
       "      <td>513</td>\n",
       "      <td>54</td>\n",
       "    </tr>\n",
       "    <tr>\n",
       "      <th>6</th>\n",
       "      <td>28145</td>\n",
       "      <td>58</td>\n",
       "    </tr>\n",
       "    <tr>\n",
       "      <th>7</th>\n",
       "      <td>100</td>\n",
       "      <td>62</td>\n",
       "    </tr>\n",
       "    <tr>\n",
       "      <th>8</th>\n",
       "      <td>164</td>\n",
       "      <td>82</td>\n",
       "    </tr>\n",
       "    <tr>\n",
       "      <th>9</th>\n",
       "      <td>491</td>\n",
       "      <td>87</td>\n",
       "    </tr>\n",
       "  </tbody>\n",
       "</table>\n",
       "</div>"
      ],
      "text/plain": [
       "   magnitude  time\n",
       "0      40989     0\n",
       "1       1445    21\n",
       "2        563    31\n",
       "3        329    33\n",
       "4        555    49\n",
       "5        513    54\n",
       "6      28145    58\n",
       "7        100    62\n",
       "8        164    82\n",
       "9        491    87"
      ]
     },
     "execution_count": 19,
     "metadata": {},
     "output_type": "execute_result"
    }
   ],
   "source": [
    "# read the real cascade provided in the file example.csv\n",
    "real_cascade = pd.read_csv('example_book.csv', names=['magnitude', 'time'], header=0)\n",
    "real_cascade.index -= 1\n",
    "real_cascade.head(10)"
   ]
  },
  {
   "cell_type": "code",
   "execution_count": 20,
   "metadata": {},
   "outputs": [],
   "source": [
    "observation_duration = 600 # seconds\n",
    "history = real_cascade[real_cascade['time']<=observation_duration]\n",
    "\n",
    "params = dict(K=0.024, \n",
    "              beta=0.5, \n",
    "              c=0.001, \n",
    "              theta=0.2)"
   ]
  },
  {
   "cell_type": "markdown",
   "metadata": {},
   "source": [
    "**Event rate $\\lambda(t)$ vizualisation**"
   ]
  },
  {
   "cell_type": "code",
   "execution_count": 21,
   "metadata": {},
   "outputs": [
    {
     "data": {
      "image/png": "[encoded data removed]",
      "text/plain": [
       "<Figure size 432x288 with 1 Axes>"
      ]
     },
     "metadata": {},
     "output_type": "display_data"
    }
   ],
   "source": [
    "event_rate = lambda_rate(t, history.to_numpy(), params)\n",
    "\n",
    "plt.plot(t, event_rate)\n",
    "plt.title(\"Event rate over time\");"
   ]
  },
  {
   "cell_type": "markdown",
   "metadata": {},
   "source": [
    "**Testing the fit_params function**"
   ]
  },
  {
   "cell_type": "code",
   "execution_count": 24,
   "metadata": {
    "scrolled": true
   },
   "outputs": [
    {
     "name": "stdout",
     "output_type": "stream",
     "text": [
      "Objective value at iteration #0 is - 199.615\n",
      "Objective value at iteration #1 is - 192.452\n",
      "Objective value at iteration #2 is - 157.876\n",
      "Objective value at iteration #3 is - 152.606\n",
      "Objective value at iteration #4 is - 149.92\n",
      "Objective value at iteration #5 is - 149.39\n",
      "Objective value at iteration #6 is - 149.253\n",
      "Objective value at iteration #7 is - 148.92\n",
      "Objective value at iteration #8 is - 148.107\n",
      "Objective value at iteration #9 is - 148.097\n",
      "Objective value at iteration #10 is - 148.088\n",
      "Objective value at iteration #11 is - 148.087\n",
      "Objective value at iteration #12 is - 148.077\n",
      "Objective value at iteration #13 is - 148.072\n",
      "Objective value at iteration #14 is - 148.064\n",
      "Objective value at iteration #15 is - 148.05\n",
      "Objective value at iteration #16 is - 148.044\n",
      "Objective value at iteration #17 is - 148.039\n",
      "Objective value at iteration #18 is - 148.044\n",
      "Objective value at iteration #19 is - 148.033\n",
      "Objective value at iteration #20 is - 148.028\n",
      "Objective value at iteration #21 is - 148.021\n",
      "Objective value at iteration #22 is - 148.014\n",
      "Objective value at iteration #23 is - 148.014\n",
      "Objective value at iteration #24 is - 148.014\n",
      "Objective value at iteration #25 is - 148.014\n",
      "Objective value at iteration #26 is - 148.013\n",
      "Objective value at iteration #27 is - 148.009\n",
      "Objective value at iteration #28 is - 148.005\n",
      "Objective value at iteration #29 is - 147.997\n",
      "Objective value at iteration #30 is - 147.987\n",
      "Objective value at iteration #31 is - 147.985\n",
      "Objective value at iteration #32 is - 147.985\n",
      "Objective value at iteration #33 is - 147.983\n",
      "Objective value at iteration #34 is - 147.995\n",
      "Objective value at iteration #35 is - 147.995\n",
      "Objective value at iteration #36 is - 147.964\n",
      "Objective value at iteration #37 is - 147.966\n",
      "Objective value at iteration #38 is - 147.961\n",
      "Objective value at iteration #39 is - 148.05\n",
      "Objective value at iteration #40 is - 147.961\n",
      "Objective value at iteration #41 is - 147.961\n",
      "Objective value at iteration #42 is - 147.959\n",
      "Objective value at iteration #43 is - 147.961\n",
      "Objective value at iteration #44 is - 147.959\n",
      "Objective value at iteration #45 is - 147.96\n",
      "Objective value at iteration #46 is - 147.97\n",
      "Objective value at iteration #47 is - 147.96\n",
      "Objective value at iteration #48 is - 147.959\n",
      "Objective value at iteration #49 is - 147.959\n",
      "Objective value at iteration #50 is - 147.959\n",
      "Objective value at iteration #51 is - 147.997\n",
      "Objective value at iteration #52 is - 147.982\n",
      "Objective value at iteration #53 is - 148.733\n",
      "Objective value at iteration #54 is - 148.896\n",
      "Objective value at iteration #55 is - 148.011\n",
      "Objective value at iteration #56 is - 147.964\n",
      "Objective value at iteration #57 is - 147.94\n"
     ]
    },
    {
     "name": "stderr",
     "output_type": "stream",
     "text": [
      "/home/quentin/Documents/PFE-SD9/protoprojetsd9/hawkes_point_process/marked_hawkes.py:180: RuntimeWarning: invalid value encountered in log\n",
      "  np.log(theta) - (theta * np.log(c))\n"
     ]
    },
    {
     "name": "stdout",
     "output_type": "stream",
     "text": [
      "Objective value at iteration #58 is - 148.022\n",
      "Objective value at iteration #59 is - 148.022\n",
      "Objective value at iteration #60 is - 147.961\n",
      "Objective value at iteration #61 is - 147.957\n",
      "Objective value at iteration #62 is - 147.946\n",
      "Objective value at iteration #63 is - 147.945\n",
      "Objective value at iteration #64 is - 147.944\n",
      "Objective value at iteration #65 is - 147.943\n",
      "Objective value at iteration #66 is - 147.943\n",
      "Objective value at iteration #67 is - 147.943\n",
      "Objective value at iteration #68 is - 147.942\n",
      "Objective value at iteration #69 is - 147.941\n",
      "Objective value at iteration #70 is - 147.94\n",
      "Objective value at iteration #71 is - 147.939\n",
      "Objective value at iteration #72 is - 147.96\n",
      "Objective value at iteration #73 is - 147.949\n",
      "Objective value at iteration #74 is - 147.942\n",
      "Objective value at iteration #75 is - 147.942\n",
      "Objective value at iteration #76 is - 147.935\n",
      "Objective value at iteration #77 is - 147.935\n",
      "Objective value at iteration #78 is - 147.935\n",
      "Objective value at iteration #79 is - 147.934\n",
      "Objective value at iteration #80 is - 147.933\n",
      "Objective value at iteration #81 is - 147.953\n",
      "Objective value at iteration #82 is - 147.932\n",
      "Objective value at iteration #83 is - 147.931\n",
      "Objective value at iteration #84 is - 147.931\n",
      "Objective value at iteration #85 is - 148.501\n",
      "Objective value at iteration #86 is - 147.93\n",
      "Objective value at iteration #87 is - 147.928\n",
      "Objective value at iteration #88 is - 147.933\n",
      "Objective value at iteration #89 is - 147.923\n",
      "Objective value at iteration #90 is - 147.922\n",
      "Objective value at iteration #91 is - 147.922\n",
      "Objective value at iteration #92 is - 147.922\n",
      "Objective value at iteration #93 is - 147.922\n",
      "Objective value at iteration #94 is - 147.922\n",
      "Objective value at iteration #95 is - 147.922\n",
      "Objective value at iteration #96 is - 147.922\n",
      "Objective value at iteration #97 is - 147.922\n",
      "Objective value at iteration #98 is - 147.922\n"
     ]
    }
   ],
   "source": [
    "start_params = np.array([1, 1, 250, 1])\n",
    "result_params, result_info = fit_parameters(history.to_numpy(), start_params)"
   ]
  },
  {
   "cell_type": "code",
   "execution_count": null,
   "metadata": {},
   "outputs": [],
   "source": [
    "start_params = np.array([.8, .8, 200, .8])\n",
    "result_params, result_info = fit_parameters(history.to_numpy(), start_params)"
   ]
  },
  {
   "cell_type": "code",
   "execution_count": 25,
   "metadata": {},
   "outputs": [
    {
     "name": "stdout",
     "output_type": "stream",
     "text": [
      "Values of fitted parameters:\n",
      "K: 1.0\n",
      "beta: 1.0154926542129763\n",
      "c: 250.65753095306437\n",
      "theta: 1.338107847835144\n"
     ]
    }
   ],
   "source": [
    "print(\"Values of fitted parameters:\")\n",
    "print(f\"K: {result_params[0]}\")\n",
    "print(f\"beta: {result_params[1]}\")\n",
    "print(f\"c: {result_params[2]}\")\n",
    "print(f\"theta: {result_params[3]}\")\n",
    "\n",
    "fitted_params=dict(K=result_params[0], beta=result_params[1], c=result_params[2], theta=result_params[3])"
   ]
  },
  {
   "cell_type": "markdown",
   "metadata": {},
   "source": [
    "### Modeling a retweet cascade with marked Hawkes Process"
   ]
  },
  {
   "cell_type": "markdown",
   "metadata": {},
   "source": [
    "Now we plot part of the observed event series and the corresponding intensity function with fitted parameters. We do not plot the whole observed parts as it's too big to be seen with useful information on a single small graph\n"
   ]
  },
  {
   "cell_type": "code",
   "execution_count": 9,
   "metadata": {},
   "outputs": [
    {
     "data": {
      "image/png": "[encoded data removed]",
      "text/plain": [
       "<Figure size 1080x720 with 2 Axes>"
      ]
     },
     "metadata": {},
     "output_type": "display_data"
    }
   ],
   "source": [
    "plt_time = 600\n",
    "plt_data = history[history['time']<=plt_time]\n",
    "intensity = lambda_rate(t=np.arange(0, plt_time, 1), history=history.to_numpy(),\n",
    "                        params=dict(K=fitted_params['K'], beta=fitted_params['beta'], \n",
    "                                    c=fitted_params['c'], theta=fitted_params['theta']))\n",
    "\n",
    "plt.figure(figsize=(15, 10))\n",
    "\n",
    "plt.subplot(2, 1, 1)\n",
    "plt.bar(plt_data['time'].values, np.log(plt_data['magnitude'].values), linewidth=5)\n",
    "plt.title('A retweet cascade as a sequence of events')\n",
    "plt.xlabel('Time')\n",
    "plt.ylabel('User Influence')\n",
    "\n",
    "plt.subplot(2, 1, 2)\n",
    "plt.plot(np.arange(0, plt_time, 1), intensity)\n",
    "plt.xlabel('Time')\n",
    "plt.ylabel('Intensity');"
   ]
  },
  {
   "cell_type": "markdown",
   "metadata": {},
   "source": [
    "### Using the model to make predictions of final size"
   ]
  },
  {
   "cell_type": "code",
   "execution_count": 10,
   "metadata": {},
   "outputs": [
    {
     "name": "stdout",
     "output_type": "stream",
     "text": [
      "{'total': 216.0, 'n_star': 0.9222946426163504, 'a1': 13.413424255564182}\n"
     ]
    }
   ],
   "source": [
    "# To get predictions from fitted model we can call the function that estimates the final number of tweets\n",
    "# in the cascade\n",
    "prediction = get_total_events(history=history.to_numpy(), T=observation_duration,\n",
    "                              params=fitted_params)\n",
    "print(prediction)"
   ]
  },
  {
   "cell_type": "code",
   "execution_count": 11,
   "metadata": {},
   "outputs": [
    {
     "name": "stdout",
     "output_type": "stream",
     "text": [
      "The real size of cascade is 219 and predicted values is 216\n",
      "The relative error in percentage is 1.37\n"
     ]
    }
   ],
   "source": [
    "# Total length of real casacde\n",
    "n_real = len(real_cascade)\n",
    "n_pred = prediction['total']\n",
    "print(f\"The real size of cascade is {n_real} and predicted values is {int(n_pred)}\")\n",
    "print(f\"The relative error in percentage is {round(100 * abs(n_real - n_pred) / n_real, 2)}\")"
   ]
  },
  {
   "cell_type": "raw",
   "metadata": {},
   "source": [
    "Application de l'algorithme d'optimisation au jeu de data\n",
    "Les paramètres retournés sont ceux fittés ainsi que ceux utilisés comme features pour l'entrainement d'une Random Forest"
   ]
  },
  {
   "cell_type": "code",
   "execution_count": 14,
   "metadata": {},
   "outputs": [],
   "source": [
    "import pandas as pd\n",
    "import numpy as np\n",
    "from marked_hawkes import fit_parameters, get_total_events\n",
    "\n",
    "\n",
    "## COMPLETE DATA HISTORY\n",
    "indexes = pd.read_csv('index.csv')\n",
    "cascades = pd.read_csv('data.csv')\n",
    "cascades.index += 1 # Match with the index.csv values\n",
    "\n",
    "\n",
    "## CONTEXT PARAMETERS\n",
    "observation_duration = 600 # seconds\n",
    "start_params = np.array([1, 1, 250, 1])\n",
    "\n",
    "\n",
    "## TRAINING DATA FOR RANDOM FOREST\n",
    "RF_train_data = pd.DataFrame(columns=['c','theta','A1','n_star','w'])"
   ]
  },
  {
   "cell_type": "code",
   "execution_count": 15,
   "metadata": {
    "scrolled": true
   },
   "outputs": [
    {
     "name": "stderr",
     "output_type": "stream",
     "text": [
      "/home/quentin/Documents/PFE-SD9/protoprojetsd9/hawkes_point_process/marked_hawkes.py:117: RuntimeWarning: divide by zero encountered in log\n",
      "  res = K * (mi_beta * np.log(history[:, 0]) * (first_part - second_part_k)).sum() / theta\n",
      "/home/quentin/Documents/PFE-SD9/protoprojetsd9/hawkes_point_process/marked_hawkes.py:117: RuntimeWarning: invalid value encountered in multiply\n",
      "  res = K * (mi_beta * np.log(history[:, 0]) * (first_part - second_part_k)).sum() / theta\n",
      "/home/quentin/Documents/PFE-SD9/protoprojetsd9/hawkes_point_process/marked_hawkes.py:127: RuntimeWarning: divide by zero encountered in log\n",
      "  numerator = denominator * np.log(history[:i, 0])\n",
      "/home/quentin/Documents/PFE-SD9/protoprojetsd9/hawkes_point_process/marked_hawkes.py:127: RuntimeWarning: invalid value encountered in multiply\n",
      "  numerator = denominator * np.log(history[:i, 0])\n",
      "/home/quentin/Documents/PFE-SD9/protoprojetsd9/hawkes_point_process/marked_hawkes.py:125: RuntimeWarning: divide by zero encountered in power\n",
      "  denominator = ((history[i, 1] + c - history[:i, 1])**(-1-theta)) * \\\n",
      "/home/quentin/Documents/PFE-SD9/protoprojetsd9/hawkes_point_process/marked_hawkes.py:143: RuntimeWarning: invalid value encountered in double_scalars\n",
      "  first_c += numerator / sum(denominator)\n",
      "/home/quentin/Documents/PFE-SD9/protoprojetsd9/hawkes_point_process/marked_hawkes.py:142: RuntimeWarning: divide by zero encountered in power\n",
      "  (-1-theta) * (history[:i, 0]**beta)).sum()\n",
      "/home/quentin/Documents/PFE-SD9/protoprojetsd9/hawkes_point_process/marked_hawkes.py:167: RuntimeWarning: invalid value encountered in double_scalars\n",
      "  first_theta += sum(numerator) / sum(denominator)\n",
      "/home/quentin/Documents/PFE-SD9/protoprojetsd9/hawkes_point_process/marked_hawkes.py:166: RuntimeWarning: invalid value encountered in log\n",
      "  numerator = np.log(history[i, 1] + c - history[:i, 1]) * denominator\n",
      "/home/quentin/Documents/PFE-SD9/protoprojetsd9/hawkes_point_process/marked_hawkes.py:166: RuntimeWarning: divide by zero encountered in log\n",
      "  numerator = np.log(history[i, 1] + c - history[:i, 1]) * denominator\n",
      "/home/quentin/Documents/PFE-SD9/protoprojetsd9/hawkes_point_process/marked_hawkes.py:126: RuntimeWarning: invalid value encountered in multiply\n",
      "  (history[:i, 0]**beta)\n",
      "/home/quentin/Documents/PFE-SD9/protoprojetsd9/hawkes_point_process/marked_hawkes.py:142: RuntimeWarning: invalid value encountered in multiply\n",
      "  (-1-theta) * (history[:i, 0]**beta)).sum()\n"
     ]
    },
    {
     "name": "stdout",
     "output_type": "stream",
     "text": [
      "Values of fitted parameters for cascade n# 37 :\n",
      "K: 0.9900000098999999\n",
      "beta: 1.0\n",
      "c: 250.0\n",
      "theta: 1.0\n",
      "{'x': array([  0.99000001,   1.        , 250.        ,   1.        ]), 'g': array([0.]), 'obj_val': 0.0, 'mult_g': array([0.]), 'mult_x_L': array([0., 0., 0., 0.]), 'mult_x_U': array([0., 0., 0., 0.]), 'status': -13, 'status_msg': b'Algorithm received an invalid number (such as NaN or Inf) from the NLP; see also option check_derivatives_for_naninf'}\n",
      "Values of fitted parameters for cascade n# 38 :\n",
      "K: 0.9900000098999999\n",
      "beta: 1.0\n",
      "c: 250.0\n",
      "theta: 1.0\n",
      "{'x': array([  0.99000001,   1.        , 250.        ,   1.        ]), 'g': array([0.]), 'obj_val': 0.0, 'mult_g': array([0.]), 'mult_x_L': array([0., 0., 0., 0.]), 'mult_x_U': array([0., 0., 0., 0.]), 'status': -13, 'status_msg': b'Algorithm received an invalid number (such as NaN or Inf) from the NLP; see also option check_derivatives_for_naninf'}\n",
      "Values of fitted parameters for cascade n# 76 :\n",
      "K: 0.9900000098999999\n",
      "beta: 1.0\n",
      "c: 250.0\n",
      "theta: 1.0\n",
      "{'x': array([  0.99000001,   1.        , 250.        ,   1.        ]), 'g': array([0.]), 'obj_val': 0.0, 'mult_g': array([0.]), 'mult_x_L': array([0., 0., 0., 0.]), 'mult_x_U': array([0., 0., 0., 0.]), 'status': -13, 'status_msg': b'Algorithm received an invalid number (such as NaN or Inf) from the NLP; see also option check_derivatives_for_naninf'}\n",
      "Values of fitted parameters for cascade n# 91 :\n",
      "K: 0.9900000098999999\n",
      "beta: 1.0\n",
      "c: 250.0\n",
      "theta: 1.0\n",
      "{'x': array([  0.99000001,   1.        , 250.        ,   1.        ]), 'g': array([0.]), 'obj_val': 0.0, 'mult_g': array([0.]), 'mult_x_L': array([0., 0., 0., 0.]), 'mult_x_U': array([0., 0., 0., 0.]), 'status': -13, 'status_msg': b'Algorithm received an invalid number (such as NaN or Inf) from the NLP; see also option check_derivatives_for_naninf'}\n"
     ]
    },
    {
     "name": "stderr",
     "output_type": "stream",
     "text": [
      "/home/quentin/Documents/PFE-SD9/protoprojetsd9/hawkes_point_process/marked_hawkes.py:87: RuntimeWarning: divide by zero encountered in double_scalars\n",
      "  a1 += history[i, 0]**beta / (theta * (T + c - history[i, 1])**theta)\n"
     ]
    },
    {
     "name": "stdout",
     "output_type": "stream",
     "text": [
      "Values of fitted parameters for cascade n# 186 :\n",
      "K: 0.9900000098999999\n",
      "beta: 1.0\n",
      "c: 250.0\n",
      "theta: 1.0\n",
      "{'x': array([  0.99000001,   1.        , 250.        ,   1.        ]), 'g': array([0.]), 'obj_val': 0.0, 'mult_g': array([0.]), 'mult_x_L': array([0., 0., 0., 0.]), 'mult_x_U': array([0., 0., 0., 0.]), 'status': -13, 'status_msg': b'Algorithm received an invalid number (such as NaN or Inf) from the NLP; see also option check_derivatives_for_naninf'}\n",
      "Values of fitted parameters for cascade n# 221 :\n",
      "K: 0.9900000098999999\n",
      "beta: 1.0\n",
      "c: 250.0\n",
      "theta: 1.0\n",
      "{'x': array([  0.99000001,   1.        , 250.        ,   1.        ]), 'g': array([0.]), 'obj_val': 0.0, 'mult_g': array([0.]), 'mult_x_L': array([0., 0., 0., 0.]), 'mult_x_U': array([0., 0., 0., 0.]), 'status': -13, 'status_msg': b'Algorithm received an invalid number (such as NaN or Inf) from the NLP; see also option check_derivatives_for_naninf'}\n",
      "Values of fitted parameters for cascade n# 257 :\n",
      "K: 0.9900000098999999\n",
      "beta: 1.0\n",
      "c: 250.0\n",
      "theta: 1.0\n",
      "{'x': array([  0.99000001,   1.        , 250.        ,   1.        ]), 'g': array([0.]), 'obj_val': 0.0, 'mult_g': array([0.]), 'mult_x_L': array([0., 0., 0., 0.]), 'mult_x_U': array([0., 0., 0., 0.]), 'status': -13, 'status_msg': b'Algorithm received an invalid number (such as NaN or Inf) from the NLP; see also option check_derivatives_for_naninf'}\n"
     ]
    }
   ],
   "source": [
    "## ITERATE CASCADES\n",
    "for k, row in indexes.iterrows():\n",
    "    cascade = cascades.loc[row['start_ind']:row['end_ind']]\n",
    "    history = cascade[cascade['time']<=observation_duration]\n",
    "    if len(history) >= 50 and history.iloc[-1, 0] >= observation_duration:\n",
    "        result_params, result_info = fit_parameters(history.to_numpy(), start_params)\n",
    "        print(f\"Values of fitted parameters for cascade n# {k} :\")\n",
    "        print(f\"K: {result_params[0]}\")\n",
    "        print(f\"beta: {result_params[1]}\")\n",
    "        print(f\"c: {result_params[2]}\")\n",
    "        print(f\"theta: {result_params[3]}\")\n",
    "        print(result_info)\n",
    "        prediction = get_total_events(history=history.to_numpy(), T=observation_duration,\n",
    "                                      params=dict(K=result_params[0], beta=result_params[1], c=result_params[2], theta=result_params[3]))\n",
    "        N_real = len(cascade)\n",
    "        scaling_w = (N_real - len(history)) * (1 - prediction['n_star']) / prediction['a1']\n",
    "        RF_features = dict(c=result_params[2], theta=result_params[3], A1=prediction['a1'],\n",
    "                           n_star=prediction['n_star'], w = scaling_w)\n",
    "        RF_train_data.at[k, :] = RF_features\n",
    "    if k>300:\n",
    "        break\n",
    "\n",
    "RF_train_data.to_csv('training_data.csv')"
   ]
  }
 ],
 "metadata": {
  "kernelspec": {
   "display_name": "Python 3",
   "language": "python",
   "name": "python3"
  },
  "language_info": {
   "codemirror_mode": {
    "name": "ipython",
    "version": 3
   },
   "file_extension": ".py",
   "mimetype": "text/x-python",
   "name": "python",
   "nbconvert_exporter": "python",
   "pygments_lexer": "ipython3",
   "version": "3.6.9"
  }
 },
 "nbformat": 4,
 "nbformat_minor": 2
}
