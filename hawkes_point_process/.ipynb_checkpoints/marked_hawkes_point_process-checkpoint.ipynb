{
 "cells": [
  {
   "cell_type": "code",
   "execution_count": 1,
   "metadata": {},
   "outputs": [],
   "source": [
    "%load_ext autoreload\n",
    "%autoreload 2"
   ]
  },
  {
   "cell_type": "code",
   "execution_count": 47,
   "metadata": {},
   "outputs": [],
   "source": [
    "import math\n",
    "import pandas as pd\n",
    "import numpy as np\n",
    "import matplotlib.pyplot as plt\n",
    "from functools import reduce\n",
    "\n",
    "from marked_hawkes import kernel_fct, lambda_rate, fit_parameters, get_total_events"
   ]
  },
  {
   "cell_type": "markdown",
   "metadata": {},
   "source": [
    "We will start with visualizing how would kernel function for an event with mark 1000 evolve, where it's parameters are $\\kappa = 0.8$, $\\beta = 0.6$, $c = 10$ and $\\theta = 0.8$."
   ]
  },
  {
   "cell_type": "markdown",
   "metadata": {},
   "source": [
    "### Plotting Memory function for the Social Kernel "
   ]
  },
  {
   "cell_type": "code",
   "execution_count": 3,
   "metadata": {},
   "outputs": [
    {
     "data": {
      "image/png": "[encoded data removed]",
      "text/plain": [
       "<Figure size 432x288 with 1 Axes>"
      ]
     },
     "metadata": {
      "needs_background": "light"
     },
     "output_type": "display_data"
    }
   ],
   "source": [
    "# initial event we want to use for simmulation (magnitude, time)\n",
    "event = [1000, 0]\n",
    "# series of time points we want to simmulate event for\n",
    "t = np.linspace(0, 100, 1000)\n",
    "\n",
    "# Power Law Kernel\n",
    "# calling the kernelfunction to get the values\n",
    "pl_values = kernel_fct(event=event, t=t)\n",
    "\n",
    "plt.plot(t, pl_values)\n",
    "plt.title(\"Power Law memory kernel over time\");"
   ]
  },
  {
   "cell_type": "markdown",
   "metadata": {},
   "source": [
    "In this section, we first read a real twitter cascade and then fit a hawkes model to it after observing first 1 hour of cacscade and then we will do the final prediction. A retweet cascade is provided in the file 'example.csv' with each row representing an event with values of the form  \n",
    "\n",
    "** [magnitude(#user followers), time(secs)] **"
   ]
  },
  {
   "cell_type": "code",
   "execution_count": 4,
   "metadata": {},
   "outputs": [
    {
     "data": {
      "text/html": [
       "<div>\n",
       "<style scoped>\n",
       "    .dataframe tbody tr th:only-of-type {\n",
       "        vertical-align: middle;\n",
       "    }\n",
       "\n",
       "    .dataframe tbody tr th {\n",
       "        vertical-align: top;\n",
       "    }\n",
       "\n",
       "    .dataframe thead th {\n",
       "        text-align: right;\n",
       "    }\n",
       "</style>\n",
       "<table border=\"1\" class=\"dataframe\">\n",
       "  <thead>\n",
       "    <tr style=\"text-align: right;\">\n",
       "      <th></th>\n",
       "      <th>magnitude</th>\n",
       "      <th>time</th>\n",
       "    </tr>\n",
       "  </thead>\n",
       "  <tbody>\n",
       "    <tr>\n",
       "      <th>0</th>\n",
       "      <td>40989</td>\n",
       "      <td>0</td>\n",
       "    </tr>\n",
       "    <tr>\n",
       "      <th>1</th>\n",
       "      <td>1445</td>\n",
       "      <td>21</td>\n",
       "    </tr>\n",
       "    <tr>\n",
       "      <th>2</th>\n",
       "      <td>563</td>\n",
       "      <td>31</td>\n",
       "    </tr>\n",
       "    <tr>\n",
       "      <th>3</th>\n",
       "      <td>329</td>\n",
       "      <td>33</td>\n",
       "    </tr>\n",
       "    <tr>\n",
       "      <th>4</th>\n",
       "      <td>555</td>\n",
       "      <td>49</td>\n",
       "    </tr>\n",
       "    <tr>\n",
       "      <th>5</th>\n",
       "      <td>513</td>\n",
       "      <td>54</td>\n",
       "    </tr>\n",
       "    <tr>\n",
       "      <th>6</th>\n",
       "      <td>28145</td>\n",
       "      <td>58</td>\n",
       "    </tr>\n",
       "    <tr>\n",
       "      <th>7</th>\n",
       "      <td>100</td>\n",
       "      <td>62</td>\n",
       "    </tr>\n",
       "    <tr>\n",
       "      <th>8</th>\n",
       "      <td>164</td>\n",
       "      <td>82</td>\n",
       "    </tr>\n",
       "    <tr>\n",
       "      <th>9</th>\n",
       "      <td>491</td>\n",
       "      <td>87</td>\n",
       "    </tr>\n",
       "  </tbody>\n",
       "</table>\n",
       "</div>"
      ],
      "text/plain": [
       "   magnitude  time\n",
       "0      40989     0\n",
       "1       1445    21\n",
       "2        563    31\n",
       "3        329    33\n",
       "4        555    49\n",
       "5        513    54\n",
       "6      28145    58\n",
       "7        100    62\n",
       "8        164    82\n",
       "9        491    87"
      ]
     },
     "execution_count": 4,
     "metadata": {},
     "output_type": "execute_result"
    }
   ],
   "source": [
    "# read the real cascade provided in the file example.csv\n",
    "real_cascade = pd.read_csv('example_book.csv', names=['magnitude', 'time'], header=0)\n",
    "real_cascade.index -= 1\n",
    "real_cascade.head(10)"
   ]
  },
  {
   "cell_type": "code",
   "execution_count": 5,
   "metadata": {},
   "outputs": [],
   "source": [
    "observation_duration = 600 # seconds\n",
    "history = real_cascade[real_cascade['time']<=observation_duration]\n",
    "\n",
    "params = dict(K=0.024, \n",
    "              beta=0.5, \n",
    "              c=0.001, \n",
    "              theta=0.2)"
   ]
  },
  {
   "cell_type": "markdown",
   "metadata": {},
   "source": [
    "**Event rate $\\lambda(t)$ vizualisation**"
   ]
  },
  {
   "cell_type": "code",
   "execution_count": 6,
   "metadata": {},
   "outputs": [
    {
     "data": {
      "image/png": "[encoded data removed]",
      "text/plain": [
       "<Figure size 432x288 with 1 Axes>"
      ]
     },
     "metadata": {
      "needs_background": "light"
     },
     "output_type": "display_data"
    }
   ],
   "source": [
    "event_rate = lambda_rate(t, history.to_numpy(), params)\n",
    "\n",
    "plt.plot(t, event_rate)\n",
    "plt.title(\"Event rate over time\");"
   ]
  },
  {
   "cell_type": "markdown",
   "metadata": {},
   "source": [
    "**Testing the fit_params function**"
   ]
  },
  {
   "cell_type": "code",
   "execution_count": 7,
   "metadata": {
    "scrolled": true
   },
   "outputs": [
    {
     "name": "stdout",
     "output_type": "stream",
     "text": [
      "Objective value at iteration #0 is - 297.971\n",
      "Objective value at iteration #1 is - 215.2\n",
      "Objective value at iteration #2 is - 166.725\n",
      "Objective value at iteration #3 is - 150.892\n",
      "Objective value at iteration #4 is - 148.166\n",
      "Objective value at iteration #5 is - 147.962\n",
      "Objective value at iteration #6 is - 147.951\n",
      "Objective value at iteration #7 is - 147.932\n",
      "Objective value at iteration #8 is - 147.929\n",
      "Objective value at iteration #9 is - 147.925\n",
      "Objective value at iteration #10 is - 147.925\n",
      "Objective value at iteration #11 is - 147.924\n",
      "Objective value at iteration #12 is - 147.941\n",
      "Objective value at iteration #13 is - 147.935\n",
      "Objective value at iteration #14 is - 147.936\n",
      "Objective value at iteration #15 is - 147.93\n",
      "Objective value at iteration #16 is - 147.937\n",
      "Objective value at iteration #17 is - 147.923\n",
      "Objective value at iteration #18 is - 147.922\n",
      "Objective value at iteration #19 is - 147.922\n",
      "Objective value at iteration #20 is - 147.922\n",
      "Objective value at iteration #21 is - 147.922\n",
      "Objective value at iteration #22 is - 147.922\n",
      "Objective value at iteration #23 is - 147.922\n",
      "Objective value at iteration #24 is - 147.922\n",
      "Objective value at iteration #25 is - 147.922\n",
      "Objective value at iteration #26 is - 147.922\n",
      "Objective value at iteration #27 is - 147.922\n",
      "Objective value at iteration #28 is - 147.922\n"
     ]
    }
   ],
   "source": [
    "start_params = np.array([1, 1, 250, 1])\n",
    "result_params, result_info = fit_parameters(history.to_numpy(), start_params)"
   ]
  },
  {
   "cell_type": "code",
   "execution_count": 49,
   "metadata": {},
   "outputs": [
    {
     "name": "stdout",
     "output_type": "stream",
     "text": [
      "Values of fitted parameters:\n",
      "K: 0.9999999932687489\n",
      "beta: 1.0154926541446765\n",
      "c: 250.65753068973316\n",
      "theta: 1.338107846355582\n"
     ]
    }
   ],
   "source": [
    "print(\"Values of fitted parameters:\")\n",
    "print(f\"K: {result_params[0]}\")\n",
    "print(f\"beta: {result_params[1]}\")\n",
    "print(f\"c: {result_params[2]}\")\n",
    "print(f\"theta: {result_params[3]}\")\n",
    "\n",
    "fitted_params=dict(K=result_params[0], beta=result_params[1], c=result_params[2], theta=result_params[3])"
   ]
  },
  {
   "cell_type": "markdown",
   "metadata": {},
   "source": [
    "### Modeling a retweet cascade with marked Hawkes Process"
   ]
  },
  {
   "cell_type": "markdown",
   "metadata": {},
   "source": [
    "Now we plot part of the observed event series and the corresponding intensity function with fitted parameters. We do not plot the whole observed parts as it's too big to be seen with useful information on a single small graph\n"
   ]
  },
  {
   "cell_type": "code",
   "execution_count": 50,
   "metadata": {},
   "outputs": [
    {
     "data": {
      "image/png": "[encoded data removed]",
      "text/plain": [
       "<Figure size 1080x720 with 2 Axes>"
      ]
     },
     "metadata": {
      "needs_background": "light"
     },
     "output_type": "display_data"
    }
   ],
   "source": [
    "plt_time = 600\n",
    "plt_data = history[history['time']<=plt_time]\n",
    "intensity = lambda_rate(t=np.arange(0, plt_time, 1), history=history.to_numpy(),\n",
    "                        params=dict(K=fitted_params['K'], beta=fitted_params['beta'], \n",
    "                                    c=fitted_params['c'], theta=fitted_params['theta']))\n",
    "\n",
    "plt.figure(figsize=(15, 10))\n",
    "\n",
    "plt.subplot(2, 1, 1)\n",
    "plt.bar(plt_data['time'].values, np.log(plt_data['magnitude'].values), linewidth=5)\n",
    "plt.title('A retweet cascade as a sequence of events')\n",
    "plt.xlabel('Time')\n",
    "plt.ylabel('User Influence')\n",
    "\n",
    "plt.subplot(2, 1, 2)\n",
    "plt.plot(np.arange(0, plt_time, 1), intensity)\n",
    "plt.xlabel('Time')\n",
    "plt.ylabel('Intensity');"
   ]
  },
  {
   "cell_type": "markdown",
   "metadata": {},
   "source": [
    "### Using the model to make predictions of final size"
   ]
  },
  {
   "cell_type": "code",
   "execution_count": 53,
   "metadata": {},
   "outputs": [
    {
     "name": "stdout",
     "output_type": "stream",
     "text": [
      "{'total': 216.0, 'n_star': 0.9222946426162629, 'a1': 13.413424255591291}\n"
     ]
    }
   ],
   "source": [
    "# To get predictions from fitted model we can call the function that estimates the final number of tweets\n",
    "# in the cascade\n",
    "prediction = get_total_events(history=history.to_numpy(), T=observation_duration,\n",
    "                              params=fitted_params)\n",
    "print(prediction)"
   ]
  },
  {
   "cell_type": "code",
   "execution_count": 56,
   "metadata": {},
   "outputs": [
    {
     "name": "stdout",
     "output_type": "stream",
     "text": [
      "The real size of cascade is 219 and predicted values is 216\n",
      "The relative error in percentage is 1.37\n"
     ]
    }
   ],
   "source": [
    "# Total length of real casacde\n",
    "n_real = len(real_cascade)\n",
    "n_pred = prediction['total']\n",
    "print(f\"The real size of cascade is {n_real} and predicted values is {int(n_pred)}\")\n",
    "print(f\"The relative error in percentage is {round(100 * abs(n_real - n_pred) / n_real, 2)}\")"
   ]
  }
 ],
 "metadata": {
  "kernelspec": {
   "display_name": "Python 3",
   "language": "python",
   "name": "python3"
  },
  "language_info": {
   "codemirror_mode": {
    "name": "ipython",
    "version": 3
   },
   "file_extension": ".py",
   "mimetype": "text/x-python",
   "name": "python",
   "nbconvert_exporter": "python",
   "pygments_lexer": "ipython3",
   "version": "3.7.6"
  }
 },
 "nbformat": 4,
 "nbformat_minor": 2
}
